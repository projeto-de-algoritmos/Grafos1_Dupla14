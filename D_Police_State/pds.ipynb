{
 "cells": [
  {
   "cell_type": "code",
   "execution_count": 72,
   "id": "7a0766b1",
   "metadata": {},
   "outputs": [
    {
     "name": "stdout",
     "output_type": "stream",
     "text": [
      "6 2 4\n",
      "1 6\n",
      "1 2\n",
      "2 3\n",
      "3 4\n",
      "4 5\n",
      "5 6\n",
      "1\n",
      "5\n"
     ]
    }
   ],
   "source": [
    "import numpy as np\n",
    "from collections import defaultdict\n",
    "\n",
    "n,k,d = input().split()\n",
    "\n",
    "\n",
    "\n",
    "n = int(n)\n",
    "k = int(k)\n",
    "d = int(d)\n",
    "\n",
    "\n",
    "visita = [0]*(n+1)\n",
    "distancia = [1e9]*(n+1)\n",
    "fila = []\n",
    "tree = defaultdict(list)\n",
    " \n",
    "\n",
    "cor = [0]*n\n",
    "fechadas = []\n",
    "\n",
    "\n",
    "\n",
    "pd = input()\n",
    "pd = pd.split() #input\n",
    "pdd = list(map(int,pd))\n",
    "pd = pdd\n",
    "\n",
    "for i in range(1,k):\n",
    "    visita[pd[i]] = 1\n",
    "    distancia[pd[i]] = 0\n",
    "    fila.append(pd[i])\n",
    "\n",
    "    \n",
    "for d in range(n-1):\n",
    "    u, v = map(int, input().split())\n",
    "    tree[u].append((v, d))\n",
    "    tree[v].append((u, d))\n",
    "    \n",
    "while(len(fila) != 0):\n",
    "    \n",
    "    u= fila.pop(0)\n",
    "    for v, indice in tree[u]:\n",
    "        if (visita[v] == 0):\n",
    "            visita[v] = 1\n",
    "            cor[indice] = 1\n",
    "            fila.append(v)\n",
    "            \n",
    "for f in range(1,n):\n",
    "    if(cor[f] == 0):\n",
    "        fechadas.append(f)\n",
    "print(len(fechadas))\n",
    "\n",
    "for fe in range(len(fechadas)):\n",
    "    print(fechadas[fe])\n",
    "\n",
    "    \n",
    "    \n",
    "\n",
    "\n",
    "\n",
    "\n",
    "        \n",
    "        \n"
   ]
  },
  {
   "cell_type": "code",
   "execution_count": 58,
   "id": "8e3ee51d",
   "metadata": {},
   "outputs": [
    {
     "ename": "SyntaxError",
     "evalue": "unexpected character after line continuation character (3008040752.py, line 1)",
     "output_type": "error",
     "traceback": [
      "\u001b[0;36m  Cell \u001b[0;32mIn[58], line 1\u001b[0;36m\u001b[0m\n\u001b[0;31m    1 2\\n 2 3\\n 3 4\\n 4 5\u001b[0m\n\u001b[0m        ^\u001b[0m\n\u001b[0;31mSyntaxError\u001b[0m\u001b[0;31m:\u001b[0m unexpected character after line continuation character\n"
     ]
    }
   ],
   "source": [
    "1 2\\n 2 3\\n 3 4\\n 4 5 5 6"
   ]
  },
  {
   "cell_type": "code",
   "execution_count": null,
   "id": "d6beff5e",
   "metadata": {},
   "outputs": [],
   "source": []
  }
 ],
 "metadata": {
  "kernelspec": {
   "display_name": "Python 3 (ipykernel)",
   "language": "python",
   "name": "python3"
  },
  "language_info": {
   "codemirror_mode": {
    "name": "ipython",
    "version": 3
   },
   "file_extension": ".py",
   "mimetype": "text/x-python",
   "name": "python",
   "nbconvert_exporter": "python",
   "pygments_lexer": "ipython3",
   "version": "3.10.5"
  }
 },
 "nbformat": 4,
 "nbformat_minor": 5
}
